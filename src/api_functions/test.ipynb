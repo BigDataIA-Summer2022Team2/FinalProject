{
 "cells": [
  {
   "cell_type": "code",
   "execution_count": null,
   "metadata": {},
   "outputs": [],
   "source": [
    "from datetime import datetime\n",
    "import pandas as pd\n",
    "import pandas_datareader as pdr\n",
    "end = datetime(2022,8,13)\n",
    "start = end\n",
    "#DataReader method name is case sensitive\n",
    "df = pdr.DataReader(\"goog\", 'yahoo', '2022-8-13', '2022-8-14')\n",
    "df = df.reset_index()\n",
    "df = df.round(2)\n",
    "df"
   ]
  },
  {
   "cell_type": "code",
   "execution_count": null,
   "metadata": {},
   "outputs": [],
   "source": [
    "import pandas as pd\n",
    "from sqlalchemy import create_engine\n",
    "from datetime import datetime, timedelta\n",
    "db_host = \"204.15.72.120\"\n",
    "db_user = \"root\"\n",
    "db_password = \"lemon123\"\n",
    "db_database = \"final\"\n",
    "engine = create_engine(\"mysql+pymysql://{user}:{pw}@{host}/{db}\"\n",
    "\t\t\t\t.format(host=db_host, db=db_database, user=db_user, pw=db_password))\n",
    "dbConnection = engine.connect()\n",
    "yesterday = datetime.today()+timedelta(-1)\n",
    "yesterday1 = yesterday.strftime(\"%a\")\n",
    "yesterday_format = yesterday.strftime('%Y-%m-%d')\n",
    "stockname = pd.read_sql(f\"select distinct stockAbbrName from stock_follow_table\", dbConnection)\n",
    "compamyabbreviations = stockname['stockAbbrName'].values.tolist()\n",
    "print(yesterday1)\n",
    "for name in compamyabbreviations:\n",
    "    last_record_date = pd.read_sql(f\"select Date from {name} ORDER BY Date DESC LIMIT 1\", dbConnection)\n",
    "    last_record_date = last_record_date['Date'].to_string(index = False)\n",
    "    #last_record_date = last_record_date[0].strftime('%Y-%m-%d')\n",
    "    #last_record_date_formant = last_record_date.strftime('%Y-%m-%d')\n",
    "    if last_record_date == yesterday_format:\n",
    "        print(last_record_date)"
   ]
  },
  {
   "cell_type": "code",
   "execution_count": null,
   "metadata": {},
   "outputs": [],
   "source": [
    "from sqlalchemy import create_engine\n",
    "import pandas as pd\n",
    "db_host = \"localhost\"\n",
    "db_user = \"root\"\n",
    "db_password = \"1207\"\n",
    "db_database = \"damg7245\"\n",
    "start_date = '07/01/2018'\n",
    "end_date = '07/02/2018'\n",
    "engine = create_engine(\"mysql+pymysql://{user}:{pw}@{host}/{db}\"\n",
    "        .format(host=db_host, db=db_database, user=db_user, pw=db_password))\n",
    "dbConnection    = engine.connect()\n",
    "df = pd.read_sql(f\"SELECT * FROM goog_stock WHERE Date BETWEEN {start_date} AND {end_date}\", dbConnection)\n",
    "data = df.to_dict()\n",
    "\n",
    "data"
   ]
  },
  {
   "cell_type": "code",
   "execution_count": null,
   "metadata": {},
   "outputs": [],
   "source": [
    "from pandas_datareader.data import DataReader\n",
    "import numpy as np\n",
    "df = DataReader('AAPL', data_source='yahoo', start='2012-01-01', end=datetime.now())\n",
    "# Create a new dataframe with only the 'Close column \n",
    "data = df.filter(['Close'])\n",
    "# Convert the dataframe to a numpy array\n",
    "dataset = data.values\n",
    "# Get the number of rows to train the model on\n",
    "training_data_len = len(dataset) * .95\n",
    "\n",
    "# Scale the data\n",
    "from sklearn.preprocessing import MinMaxScaler\n",
    "\n",
    "scaler = MinMaxScaler(feature_range=(0,1))\n",
    "scaled_data = scaler.fit_transform(dataset)\\\n",
    "\n",
    "# Create the training data set \n",
    "# Create the scaled training data set\n",
    "train_data = scaled_data\n",
    "# Split the data into x_train and y_train data sets\n",
    "x_train = []\n",
    "y_train = []\n",
    "\n",
    "for i in range(60, len(train_data)):\n",
    "    x_train.append(train_data[i-60:i, 0])\n",
    "    y_train.append(train_data[i, 0])\n",
    "    if i<= 61:\n",
    "        print(x_train)\n",
    "        print(y_train)\n",
    "        print()\n",
    "        \n",
    "# Convert the x_train and y_train to numpy arrays \n",
    "x_train, y_train = np.array(x_train), np.array(y_train)\n",
    "\n",
    "# Reshape the data\n",
    "x_train = np.reshape(x_train, (x_train.shape[0], x_train.shape[1], 1))\n",
    "# x_train.shape\n",
    "\n",
    "from keras.models import Sequential\n",
    "from keras.layers import Dense, LSTM\n",
    "\n",
    "# Build the LSTM model\n",
    "model = Sequential()\n",
    "model.add(LSTM(128, return_sequences=True, input_shape= (x_train.shape[1], 1)))\n",
    "model.add(LSTM(64, return_sequences=False))\n",
    "model.add(Dense(25))\n",
    "model.add(Dense(1))\n",
    "\n",
    "# Compile the model\n",
    "model.compile(optimizer='adam', loss='mean_squared_error')\n",
    "\n",
    "# Train the model\n",
    "model.fit(x_train, y_train, batch_size=1, epochs=1)\n",
    "\n",
    "# Create the testing data set\n",
    "# Create a new array containing scaled values from index 1543 to 2002 \n",
    "test_data = scaled_data[training_data_len - 60: , :]\n",
    "# Create the data sets x_test and y_test\n",
    "x_test = []\n",
    "y_test = dataset[training_data_len:, :]\n",
    "for i in range(60, len(test_data)):\n",
    "    x_test.append(test_data[i-60:i, 0])\n",
    "    \n",
    "# Convert the data to a numpy array\n",
    "x_test = np.array(x_test)\n",
    "\n",
    "# Reshape the data\n",
    "x_test = np.reshape(x_test, (x_test.shape[0], x_test.shape[1], 1 ))\n",
    "\n",
    "# Get the models predicted price values \n",
    "predictions = model.predict(x_test)\n",
    "predictions = scaler.inverse_transform(predictions)"
   ]
  },
  {
   "cell_type": "code",
   "execution_count": null,
   "metadata": {},
   "outputs": [],
   "source": [
    "import streamlit_authenticator as stauth\n",
    "\n",
    "name_list = ['meihu','cheng','admin','root','team1','team3','team4','airflow']\n",
    "username_list = ['meihu','lemon','admin','root','team1','team3','team4','airflow']\n",
    "passwords = ['meihu','cheng','admin','root','team1','team3','team4','airflow']\n",
    "\n",
    "hashed_passwords = stauth.Hasher(passwords).generate()\n",
    "\n",
    "print(hashed_passwords)"
   ]
  },
  {
   "cell_type": "code",
   "execution_count": 25,
   "metadata": {},
   "outputs": [
    {
     "name": "stdout",
     "output_type": "stream",
     "text": [
      "{'detail': [{'loc': ['body', 'username'], 'msg': 'field required', 'type': 'value_error.missing'}, {'loc': ['body', 'password'], 'msg': 'field required', 'type': 'value_error.missing'}]}\n"
     ]
    }
   ],
   "source": [
    "import requests\n",
    "\n",
    "headers = {'accept': 'application/json','Content-Type': 'application/x-www-form-urlencoded',}\n",
    "url = 'http://localhost:8000/token'\n",
    "data = {'grant_type':'','username': 'meihu',\"password\": 'meihu','scope':'','client_id':'','client_secret':''}\n",
    "res = requests.post(url=url,params=data,headers=headers)\n",
    "print(res.json())\n",
    "#token = res.json()[\"access_token\"]\n",
    "# print(res.json())"
   ]
  }
 ],
 "metadata": {
  "kernelspec": {
   "display_name": "Python 3.8.10 64-bit",
   "language": "python",
   "name": "python3"
  },
  "language_info": {
   "codemirror_mode": {
    "name": "ipython",
    "version": 3
   },
   "file_extension": ".py",
   "mimetype": "text/x-python",
   "name": "python",
   "nbconvert_exporter": "python",
   "pygments_lexer": "ipython3",
   "version": "3.8.10"
  },
  "orig_nbformat": 4,
  "vscode": {
   "interpreter": {
    "hash": "31f2aee4e71d21fbe5cf8b01ff0e069b9275f58929596ceb00d14d90e3e16cd6"
   }
  }
 },
 "nbformat": 4,
 "nbformat_minor": 2
}
